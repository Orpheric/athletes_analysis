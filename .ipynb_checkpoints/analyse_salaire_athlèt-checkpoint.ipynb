{
 "cells": [
  {
   "cell_type": "markdown",
   "id": "9c1b223e-246b-4556-b376-75a547ce417b",
   "metadata": {},
   "source": [
    "# Analyse des salaires des athletes"
   ]
  },
  {
   "cell_type": "markdown",
   "id": "78d53e93-2528-40f0-bcc5-fdd0f8e66207",
   "metadata": {},
   "source": [
    "Nous avons à notre disposition un fichier qui présente la liste des Athlètes les mieux payés aux cours de plusieurs années.\n",
    "\n",
    "Le but du projet est d'analyser les tendances et de mieux comprendre les sport les mieux payés et les pays les plus représenter. Ce projet nous permettra de mieux manipuler l'outils pandas et de faire des analyses pousées"
   ]
  },
  {
   "cell_type": "markdown",
   "id": "9180f6af-9ff8-421e-9773-f9e2bc8ae792",
   "metadata": {},
   "source": [
    "Au cours de notre analyse, nous utiliserons la structure ci-après\n",
    "\n",
    "- Collecte\n",
    "- Analyse exploratoire (analyse univarié, multivarié)\n",
    "- Test d'hypothèse\n",
    "- Nettoyage des données si nécessaire.\n",
    "  "
   ]
  },
  {
   "cell_type": "code",
   "execution_count": 5,
   "id": "a2a2df51-7ab0-4220-b12e-3a956e0e844b",
   "metadata": {},
   "outputs": [],
   "source": [
    "import numpy as np     \n",
    "import pandas as pd     \n",
    "import seaborn as sns  \n",
    "import matplotlib.pyplot as plt  "
   ]
  },
  {
   "cell_type": "markdown",
   "id": "7418d318-9cc2-4325-94a6-f7e14d1ebb57",
   "metadata": {},
   "source": [
    "Lecture du fichier"
   ]
  },
  {
   "cell_type": "code",
   "execution_count": 6,
   "id": "6801db4a-3d00-43a6-a8b7-6b9625666af2",
   "metadata": {},
   "outputs": [],
   "source": [
    "salaires_athletes = pd.read_csv(\"Forbes_Richest_Athletes_1990-2020.csv\",index_col=\"S.NO\") "
   ]
  },
  {
   "cell_type": "code",
   "execution_count": 7,
   "id": "38b3cad8-34e4-4d00-889a-54aefdb2d15b",
   "metadata": {},
   "outputs": [
    {
     "data": {
      "text/html": [
       "<div>\n",
       "<style scoped>\n",
       "    .dataframe tbody tr th:only-of-type {\n",
       "        vertical-align: middle;\n",
       "    }\n",
       "\n",
       "    .dataframe tbody tr th {\n",
       "        vertical-align: top;\n",
       "    }\n",
       "\n",
       "    .dataframe thead th {\n",
       "        text-align: right;\n",
       "    }\n",
       "</style>\n",
       "<table border=\"1\" class=\"dataframe\">\n",
       "  <thead>\n",
       "    <tr style=\"text-align: right;\">\n",
       "      <th></th>\n",
       "      <th>Name</th>\n",
       "      <th>Nationality</th>\n",
       "      <th>Current Rank</th>\n",
       "      <th>Previous Year Rank</th>\n",
       "      <th>Sport</th>\n",
       "      <th>Year</th>\n",
       "      <th>earnings ($ million)</th>\n",
       "    </tr>\n",
       "    <tr>\n",
       "      <th>S.NO</th>\n",
       "      <th></th>\n",
       "      <th></th>\n",
       "      <th></th>\n",
       "      <th></th>\n",
       "      <th></th>\n",
       "      <th></th>\n",
       "      <th></th>\n",
       "    </tr>\n",
       "  </thead>\n",
       "  <tbody>\n",
       "    <tr>\n",
       "      <th>1</th>\n",
       "      <td>Mike Tyson</td>\n",
       "      <td>USA</td>\n",
       "      <td>1</td>\n",
       "      <td>NaN</td>\n",
       "      <td>boxing</td>\n",
       "      <td>1990</td>\n",
       "      <td>28.6</td>\n",
       "    </tr>\n",
       "    <tr>\n",
       "      <th>2</th>\n",
       "      <td>Buster Douglas</td>\n",
       "      <td>USA</td>\n",
       "      <td>2</td>\n",
       "      <td>NaN</td>\n",
       "      <td>boxing</td>\n",
       "      <td>1990</td>\n",
       "      <td>26.0</td>\n",
       "    </tr>\n",
       "    <tr>\n",
       "      <th>3</th>\n",
       "      <td>Sugar Ray Leonard</td>\n",
       "      <td>USA</td>\n",
       "      <td>3</td>\n",
       "      <td>NaN</td>\n",
       "      <td>boxing</td>\n",
       "      <td>1990</td>\n",
       "      <td>13.0</td>\n",
       "    </tr>\n",
       "    <tr>\n",
       "      <th>4</th>\n",
       "      <td>Ayrton Senna</td>\n",
       "      <td>Brazil</td>\n",
       "      <td>4</td>\n",
       "      <td>NaN</td>\n",
       "      <td>auto racing</td>\n",
       "      <td>1990</td>\n",
       "      <td>10.0</td>\n",
       "    </tr>\n",
       "    <tr>\n",
       "      <th>5</th>\n",
       "      <td>Alain Prost</td>\n",
       "      <td>France</td>\n",
       "      <td>5</td>\n",
       "      <td>NaN</td>\n",
       "      <td>auto racing</td>\n",
       "      <td>1990</td>\n",
       "      <td>9.0</td>\n",
       "    </tr>\n",
       "    <tr>\n",
       "      <th>...</th>\n",
       "      <td>...</td>\n",
       "      <td>...</td>\n",
       "      <td>...</td>\n",
       "      <td>...</td>\n",
       "      <td>...</td>\n",
       "      <td>...</td>\n",
       "      <td>...</td>\n",
       "    </tr>\n",
       "    <tr>\n",
       "      <th>297</th>\n",
       "      <td>Stephen Curry</td>\n",
       "      <td>USA</td>\n",
       "      <td>6</td>\n",
       "      <td>9</td>\n",
       "      <td>Basketball</td>\n",
       "      <td>2020</td>\n",
       "      <td>74.4</td>\n",
       "    </tr>\n",
       "    <tr>\n",
       "      <th>298</th>\n",
       "      <td>Kevin Durant</td>\n",
       "      <td>USA</td>\n",
       "      <td>7</td>\n",
       "      <td>10</td>\n",
       "      <td>Basketball</td>\n",
       "      <td>2020</td>\n",
       "      <td>63.9</td>\n",
       "    </tr>\n",
       "    <tr>\n",
       "      <th>299</th>\n",
       "      <td>Tiger Woods</td>\n",
       "      <td>USA</td>\n",
       "      <td>8</td>\n",
       "      <td>11</td>\n",
       "      <td>Golf</td>\n",
       "      <td>2020</td>\n",
       "      <td>62.3</td>\n",
       "    </tr>\n",
       "    <tr>\n",
       "      <th>300</th>\n",
       "      <td>Kirk Cousins</td>\n",
       "      <td>USA</td>\n",
       "      <td>9</td>\n",
       "      <td>&gt;100</td>\n",
       "      <td>American Football</td>\n",
       "      <td>2020</td>\n",
       "      <td>60.5</td>\n",
       "    </tr>\n",
       "    <tr>\n",
       "      <th>301</th>\n",
       "      <td>Carson Wentz</td>\n",
       "      <td>USA</td>\n",
       "      <td>10</td>\n",
       "      <td>&gt;100</td>\n",
       "      <td>American Football</td>\n",
       "      <td>2020</td>\n",
       "      <td>59.1</td>\n",
       "    </tr>\n",
       "  </tbody>\n",
       "</table>\n",
       "<p>301 rows × 7 columns</p>\n",
       "</div>"
      ],
      "text/plain": [
       "                   Name Nationality  Current Rank Previous Year Rank  \\\n",
       "S.NO                                                                   \n",
       "1            Mike Tyson         USA             1                NaN   \n",
       "2        Buster Douglas         USA             2                NaN   \n",
       "3     Sugar Ray Leonard         USA             3                NaN   \n",
       "4          Ayrton Senna      Brazil             4                NaN   \n",
       "5           Alain Prost      France             5                NaN   \n",
       "...                 ...         ...           ...                ...   \n",
       "297       Stephen Curry         USA             6                  9   \n",
       "298        Kevin Durant         USA             7                 10   \n",
       "299         Tiger Woods         USA             8                 11   \n",
       "300        Kirk Cousins         USA             9               >100   \n",
       "301        Carson Wentz         USA            10               >100   \n",
       "\n",
       "                  Sport  Year  earnings ($ million)  \n",
       "S.NO                                                 \n",
       "1                boxing  1990                  28.6  \n",
       "2                boxing  1990                  26.0  \n",
       "3                boxing  1990                  13.0  \n",
       "4           auto racing  1990                  10.0  \n",
       "5           auto racing  1990                   9.0  \n",
       "...                 ...   ...                   ...  \n",
       "297          Basketball  2020                  74.4  \n",
       "298          Basketball  2020                  63.9  \n",
       "299                Golf  2020                  62.3  \n",
       "300   American Football  2020                  60.5  \n",
       "301   American Football  2020                  59.1  \n",
       "\n",
       "[301 rows x 7 columns]"
      ]
     },
     "execution_count": 7,
     "metadata": {},
     "output_type": "execute_result"
    }
   ],
   "source": [
    "salaires_athletes"
   ]
  },
  {
   "cell_type": "code",
   "execution_count": 8,
   "id": "f735976c-e902-453e-923e-760a37fdf5fe",
   "metadata": {},
   "outputs": [
    {
     "name": "stdout",
     "output_type": "stream",
     "text": [
      "<class 'pandas.core.frame.DataFrame'>\n",
      "Index: 301 entries, 1 to 301\n",
      "Data columns (total 7 columns):\n",
      " #   Column                Non-Null Count  Dtype  \n",
      "---  ------                --------------  -----  \n",
      " 0   Name                  301 non-null    object \n",
      " 1   Nationality           301 non-null    object \n",
      " 2   Current Rank          301 non-null    int64  \n",
      " 3   Previous Year Rank    277 non-null    object \n",
      " 4   Sport                 301 non-null    object \n",
      " 5   Year                  301 non-null    int64  \n",
      " 6   earnings ($ million)  301 non-null    float64\n",
      "dtypes: float64(1), int64(2), object(4)\n",
      "memory usage: 18.8+ KB\n"
     ]
    }
   ],
   "source": [
    "salaires_athletes.info()"
   ]
  },
  {
   "cell_type": "markdown",
   "id": "5054bc06-ca32-4b7a-bffe-c92a26324dd9",
   "metadata": {},
   "source": [
    "Voyons plus en détaille les donées de notre Dataset."
   ]
  },
  {
   "cell_type": "code",
   "execution_count": 9,
   "id": "ea4c6ff5-1212-43ce-8f85-50ca5c90961f",
   "metadata": {},
   "outputs": [
    {
     "data": {
      "text/html": [
       "<div>\n",
       "<style scoped>\n",
       "    .dataframe tbody tr th:only-of-type {\n",
       "        vertical-align: middle;\n",
       "    }\n",
       "\n",
       "    .dataframe tbody tr th {\n",
       "        vertical-align: top;\n",
       "    }\n",
       "\n",
       "    .dataframe thead th {\n",
       "        text-align: right;\n",
       "    }\n",
       "</style>\n",
       "<table border=\"1\" class=\"dataframe\">\n",
       "  <thead>\n",
       "    <tr style=\"text-align: right;\">\n",
       "      <th></th>\n",
       "      <th>Name</th>\n",
       "      <th>Nationality</th>\n",
       "      <th>Current Rank</th>\n",
       "      <th>Previous Year Rank</th>\n",
       "      <th>Sport</th>\n",
       "      <th>Year</th>\n",
       "      <th>earnings ($ million)</th>\n",
       "    </tr>\n",
       "    <tr>\n",
       "      <th>S.NO</th>\n",
       "      <th></th>\n",
       "      <th></th>\n",
       "      <th></th>\n",
       "      <th></th>\n",
       "      <th></th>\n",
       "      <th></th>\n",
       "      <th></th>\n",
       "    </tr>\n",
       "  </thead>\n",
       "  <tbody>\n",
       "    <tr>\n",
       "      <th>1</th>\n",
       "      <td>Mike Tyson</td>\n",
       "      <td>USA</td>\n",
       "      <td>1</td>\n",
       "      <td>NaN</td>\n",
       "      <td>boxing</td>\n",
       "      <td>1990</td>\n",
       "      <td>28.6</td>\n",
       "    </tr>\n",
       "    <tr>\n",
       "      <th>2</th>\n",
       "      <td>Buster Douglas</td>\n",
       "      <td>USA</td>\n",
       "      <td>2</td>\n",
       "      <td>NaN</td>\n",
       "      <td>boxing</td>\n",
       "      <td>1990</td>\n",
       "      <td>26.0</td>\n",
       "    </tr>\n",
       "    <tr>\n",
       "      <th>3</th>\n",
       "      <td>Sugar Ray Leonard</td>\n",
       "      <td>USA</td>\n",
       "      <td>3</td>\n",
       "      <td>NaN</td>\n",
       "      <td>boxing</td>\n",
       "      <td>1990</td>\n",
       "      <td>13.0</td>\n",
       "    </tr>\n",
       "    <tr>\n",
       "      <th>4</th>\n",
       "      <td>Ayrton Senna</td>\n",
       "      <td>Brazil</td>\n",
       "      <td>4</td>\n",
       "      <td>NaN</td>\n",
       "      <td>auto racing</td>\n",
       "      <td>1990</td>\n",
       "      <td>10.0</td>\n",
       "    </tr>\n",
       "    <tr>\n",
       "      <th>5</th>\n",
       "      <td>Alain Prost</td>\n",
       "      <td>France</td>\n",
       "      <td>5</td>\n",
       "      <td>NaN</td>\n",
       "      <td>auto racing</td>\n",
       "      <td>1990</td>\n",
       "      <td>9.0</td>\n",
       "    </tr>\n",
       "  </tbody>\n",
       "</table>\n",
       "</div>"
      ],
      "text/plain": [
       "                   Name Nationality  Current Rank Previous Year Rank  \\\n",
       "S.NO                                                                   \n",
       "1            Mike Tyson         USA             1                NaN   \n",
       "2        Buster Douglas         USA             2                NaN   \n",
       "3     Sugar Ray Leonard         USA             3                NaN   \n",
       "4          Ayrton Senna      Brazil             4                NaN   \n",
       "5           Alain Prost      France             5                NaN   \n",
       "\n",
       "            Sport  Year  earnings ($ million)  \n",
       "S.NO                                           \n",
       "1          boxing  1990                  28.6  \n",
       "2          boxing  1990                  26.0  \n",
       "3          boxing  1990                  13.0  \n",
       "4     auto racing  1990                  10.0  \n",
       "5     auto racing  1990                   9.0  "
      ]
     },
     "execution_count": 9,
     "metadata": {},
     "output_type": "execute_result"
    }
   ],
   "source": [
    "salaires_athletes.head()\n"
   ]
  },
  {
   "cell_type": "markdown",
   "id": "e7664506-3695-4f36-b36d-b4923be5def3",
   "metadata": {},
   "source": [
    "ANALYSE EXPLORATOIRE"
   ]
  },
  {
   "cell_type": "markdown",
   "id": "276f3162-dbc1-44e8-97f9-7511ecbebe0d",
   "metadata": {},
   "source": [
    "Nous allons débuté l'analyse par les athlète présent dans notre Dataset."
   ]
  },
  {
   "cell_type": "code",
   "execution_count": 10,
   "id": "0b97f3ba-2f00-48a5-acbc-c6e30e3c8567",
   "metadata": {},
   "outputs": [
    {
     "data": {
      "text/plain": [
       "array(['Mike Tyson', 'Buster Douglas', 'Sugar Ray Leonard',\n",
       "       'Ayrton Senna', 'Alain Prost', 'Jack Nicklaus', 'Greg Norman',\n",
       "       'Michael Jordan', 'Arnold Palmer', 'Evander Holyfield',\n",
       "       'George Foreman', 'Donovan \"Razor\" Ruddock', 'Nigel Mansell',\n",
       "       'Andre Agassi', 'Joe Montana', 'Jim Courier', 'Monica Seles',\n",
       "       'Riddick Bowe', \"Shaquille O'Neal\", 'Lennox Lewis',\n",
       "       'Cecil Fielder', \"Shaq O'Neal\", 'Gerhard Berger', 'Wayne Gretzky',\n",
       "       'Michael Moorer', 'Deion Sanders', 'Michael Schumacher',\n",
       "       'Emmit Smith', 'Dennis Rodman', 'Patrick Ewing',\n",
       "       'Oscar De La Hoya', 'Tiger Woods', 'Dale Earnhardt', 'Joe Sakic',\n",
       "       'Grant Hill', 'Sergei Federov', 'Gary Sheffield', 'Kevin Garnett',\n",
       "       'Kobe Bryant', 'Jacques Villeneuve', 'Jeff Gordon',\n",
       "       'Alex Rodriguez', 'Peyton Manning', 'David Beckham',\n",
       "       'Michael Vick', 'Lance Armstrong', 'Valentino Rossi',\n",
       "       'Muhammad Ali', 'Phil Mickelson', 'Tom Brady', 'Kimi Raikkonen',\n",
       "       'Ronaldinho', 'LeBron James', 'Roger Federer', 'Manny Pacquiao',\n",
       "       'Dale Earnhardt Jr.', 'Floyd Mayweather', 'Eli Manning',\n",
       "       'Terrell Suggs', 'Cristiano Ronaldo', 'Lionel Messi', 'Drew Brees',\n",
       "       'Aaron Rodgers', 'Rafael Nadal', 'Matt Ryan', 'Kevin Durant',\n",
       "       'Novak Djokovic', 'Cam Newton', 'Jordan Spieth', 'Andrew Luck',\n",
       "       'Rory McIlroy', 'Stephen Curry', 'James Harden', 'Lewis Hamilton',\n",
       "       'Conor McGregor', 'Neymar', 'Matthew Stafford', 'Canelo Alvarez',\n",
       "       'Russell Wilson', 'Aaron Rogers', 'Kirk Cousins', 'Carson Wentz'],\n",
       "      dtype=object)"
      ]
     },
     "execution_count": 10,
     "metadata": {},
     "output_type": "execute_result"
    }
   ],
   "source": [
    "salaires_athletes.Name.unique()"
   ]
  },
  {
   "cell_type": "code",
   "execution_count": 11,
   "id": "dd3e8b40-cf67-4081-b5cc-b375056c0fa9",
   "metadata": {},
   "outputs": [
    {
     "data": {
      "text/plain": [
       "Name\n",
       "Michael Jordan        19\n",
       "Tiger Woods           19\n",
       "Kobe Bryant           14\n",
       "Michael Schumacher    13\n",
       "LeBron James          13\n",
       "                      ..\n",
       "Canelo Alvarez         1\n",
       "Russell Wilson         1\n",
       "Aaron Rogers           1\n",
       "Kirk Cousins           1\n",
       "Carson Wentz           1\n",
       "Name: count, Length: 82, dtype: int64"
      ]
     },
     "execution_count": 11,
     "metadata": {},
     "output_type": "execute_result"
    }
   ],
   "source": [
    "salaires_athletes.Name.value_counts()"
   ]
  },
  {
   "cell_type": "markdown",
   "id": "249af17a-3559-432e-97ad-e30ed09fcd00",
   "metadata": {},
   "source": [
    "Nous allons analyser à présent les nationalité des athlètes."
   ]
  },
  {
   "cell_type": "code",
   "execution_count": 12,
   "id": "23a3c8ae-83e9-4664-92b7-0deca8328c9d",
   "metadata": {},
   "outputs": [
    {
     "data": {
      "text/plain": [
       "array(['USA', 'Brazil', 'France', 'Australia', 'Canada', 'UK', 'Austria',\n",
       "       'Germany', 'Russia', 'Italy', 'Finland', 'Switzerland',\n",
       "       'Philippines', 'Portugal', 'Dominican', 'Argentina', 'Filipino',\n",
       "       'Spain', 'Serbia', 'Northern Ireland', 'Ireland', 'Mexico'],\n",
       "      dtype=object)"
      ]
     },
     "execution_count": 12,
     "metadata": {},
     "output_type": "execute_result"
    }
   ],
   "source": [
    "salaires_athletes.Nationality.unique()"
   ]
  },
  {
   "cell_type": "markdown",
   "id": "8d77f137-0744-48a7-986e-3ef1666aea64",
   "metadata": {},
   "source": [
    "pour une meuilleure présentation nous allons présenter un diagramme qui réprésente la répartition des pays."
   ]
  },
  {
   "cell_type": "code",
   "execution_count": 13,
   "id": "2bc9b870-e3e2-4fec-93fd-e1c29bd7fadf",
   "metadata": {},
   "outputs": [
    {
     "data": {
      "image/png": "[encoded data removed]",
      "text/plain": [
       "<Figure size 640x480 with 1 Axes>"
      ]
     },
     "metadata": {},
     "output_type": "display_data"
    }
   ],
   "source": [
    "plt.barh(salaires_athletes.Nationality.value_counts().sort_values().index,salaires_athletes.Nationality.value_counts().sort_values())\n",
    "plt.title('la répartition des athlètes par Nationalité')\n",
    "\n",
    "plt.show()\n"
   ]
  },
  {
   "cell_type": "code",
   "execution_count": 16,
   "id": "a26d4d68-71f6-4ef6-a2f6-7bdc858caa22",
   "metadata": {},
   "outputs": [
    {
     "data": {
      "text/html": [
       "<div>\n",
       "<style scoped>\n",
       "    .dataframe tbody tr th:only-of-type {\n",
       "        vertical-align: middle;\n",
       "    }\n",
       "\n",
       "    .dataframe tbody tr th {\n",
       "        vertical-align: top;\n",
       "    }\n",
       "\n",
       "    .dataframe thead th {\n",
       "        text-align: right;\n",
       "    }\n",
       "</style>\n",
       "<table border=\"1\" class=\"dataframe\">\n",
       "  <thead>\n",
       "    <tr style=\"text-align: right;\">\n",
       "      <th></th>\n",
       "      <th>Name</th>\n",
       "      <th>Nationality</th>\n",
       "      <th>Current Rank</th>\n",
       "      <th>Previous Year Rank</th>\n",
       "      <th>Sport</th>\n",
       "      <th>Year</th>\n",
       "      <th>earnings ($ million)</th>\n",
       "    </tr>\n",
       "    <tr>\n",
       "      <th>S.NO</th>\n",
       "      <th></th>\n",
       "      <th></th>\n",
       "      <th></th>\n",
       "      <th></th>\n",
       "      <th></th>\n",
       "      <th></th>\n",
       "      <th></th>\n",
       "    </tr>\n",
       "  </thead>\n",
       "  <tbody>\n",
       "    <tr>\n",
       "      <th>1</th>\n",
       "      <td>Mike Tyson</td>\n",
       "      <td>USA</td>\n",
       "      <td>1</td>\n",
       "      <td>NaN</td>\n",
       "      <td>boxing</td>\n",
       "      <td>1990</td>\n",
       "      <td>28.6</td>\n",
       "    </tr>\n",
       "    <tr>\n",
       "      <th>2</th>\n",
       "      <td>Buster Douglas</td>\n",
       "      <td>USA</td>\n",
       "      <td>2</td>\n",
       "      <td>NaN</td>\n",
       "      <td>boxing</td>\n",
       "      <td>1990</td>\n",
       "      <td>26.0</td>\n",
       "    </tr>\n",
       "    <tr>\n",
       "      <th>3</th>\n",
       "      <td>Sugar Ray Leonard</td>\n",
       "      <td>USA</td>\n",
       "      <td>3</td>\n",
       "      <td>NaN</td>\n",
       "      <td>boxing</td>\n",
       "      <td>1990</td>\n",
       "      <td>13.0</td>\n",
       "    </tr>\n",
       "    <tr>\n",
       "      <th>4</th>\n",
       "      <td>Ayrton Senna</td>\n",
       "      <td>Brazil</td>\n",
       "      <td>4</td>\n",
       "      <td>NaN</td>\n",
       "      <td>auto racing</td>\n",
       "      <td>1990</td>\n",
       "      <td>10.0</td>\n",
       "    </tr>\n",
       "    <tr>\n",
       "      <th>5</th>\n",
       "      <td>Alain Prost</td>\n",
       "      <td>France</td>\n",
       "      <td>5</td>\n",
       "      <td>NaN</td>\n",
       "      <td>auto racing</td>\n",
       "      <td>1990</td>\n",
       "      <td>9.0</td>\n",
       "    </tr>\n",
       "    <tr>\n",
       "      <th>...</th>\n",
       "      <td>...</td>\n",
       "      <td>...</td>\n",
       "      <td>...</td>\n",
       "      <td>...</td>\n",
       "      <td>...</td>\n",
       "      <td>...</td>\n",
       "      <td>...</td>\n",
       "    </tr>\n",
       "    <tr>\n",
       "      <th>297</th>\n",
       "      <td>Stephen Curry</td>\n",
       "      <td>USA</td>\n",
       "      <td>6</td>\n",
       "      <td>9</td>\n",
       "      <td>Basketball</td>\n",
       "      <td>2020</td>\n",
       "      <td>74.4</td>\n",
       "    </tr>\n",
       "    <tr>\n",
       "      <th>298</th>\n",
       "      <td>Kevin Durant</td>\n",
       "      <td>USA</td>\n",
       "      <td>7</td>\n",
       "      <td>10</td>\n",
       "      <td>Basketball</td>\n",
       "      <td>2020</td>\n",
       "      <td>63.9</td>\n",
       "    </tr>\n",
       "    <tr>\n",
       "      <th>299</th>\n",
       "      <td>Tiger Woods</td>\n",
       "      <td>USA</td>\n",
       "      <td>8</td>\n",
       "      <td>11</td>\n",
       "      <td>Golf</td>\n",
       "      <td>2020</td>\n",
       "      <td>62.3</td>\n",
       "    </tr>\n",
       "    <tr>\n",
       "      <th>300</th>\n",
       "      <td>Kirk Cousins</td>\n",
       "      <td>USA</td>\n",
       "      <td>9</td>\n",
       "      <td>&gt;100</td>\n",
       "      <td>American Football</td>\n",
       "      <td>2020</td>\n",
       "      <td>60.5</td>\n",
       "    </tr>\n",
       "    <tr>\n",
       "      <th>301</th>\n",
       "      <td>Carson Wentz</td>\n",
       "      <td>USA</td>\n",
       "      <td>10</td>\n",
       "      <td>&gt;100</td>\n",
       "      <td>American Football</td>\n",
       "      <td>2020</td>\n",
       "      <td>59.1</td>\n",
       "    </tr>\n",
       "  </tbody>\n",
       "</table>\n",
       "<p>301 rows × 7 columns</p>\n",
       "</div>"
      ],
      "text/plain": [
       "                   Name Nationality  Current Rank Previous Year Rank  \\\n",
       "S.NO                                                                   \n",
       "1            Mike Tyson         USA             1                NaN   \n",
       "2        Buster Douglas         USA             2                NaN   \n",
       "3     Sugar Ray Leonard         USA             3                NaN   \n",
       "4          Ayrton Senna      Brazil             4                NaN   \n",
       "5           Alain Prost      France             5                NaN   \n",
       "...                 ...         ...           ...                ...   \n",
       "297       Stephen Curry         USA             6                  9   \n",
       "298        Kevin Durant         USA             7                 10   \n",
       "299         Tiger Woods         USA             8                 11   \n",
       "300        Kirk Cousins         USA             9               >100   \n",
       "301        Carson Wentz         USA            10               >100   \n",
       "\n",
       "                  Sport  Year  earnings ($ million)  \n",
       "S.NO                                                 \n",
       "1                boxing  1990                  28.6  \n",
       "2                boxing  1990                  26.0  \n",
       "3                boxing  1990                  13.0  \n",
       "4           auto racing  1990                  10.0  \n",
       "5           auto racing  1990                   9.0  \n",
       "...                 ...   ...                   ...  \n",
       "297          Basketball  2020                  74.4  \n",
       "298          Basketball  2020                  63.9  \n",
       "299                Golf  2020                  62.3  \n",
       "300   American Football  2020                  60.5  \n",
       "301   American Football  2020                  59.1  \n",
       "\n",
       "[301 rows x 7 columns]"
      ]
     },
     "execution_count": 16,
     "metadata": {},
     "output_type": "execute_result"
    }
   ],
   "source": [
    "salaires_athletes\n"
   ]
  },
  {
   "cell_type": "markdown",
   "id": "f2f301c0-4dad-409e-9993-ccad9c28c048",
   "metadata": {},
   "source": [
    "Nous allons voir les sports les plus présent dans le dataset"
   ]
  },
  {
   "cell_type": "code",
   "execution_count": 18,
   "id": "67729739-8a37-4bed-944f-dbfca0dce3b4",
   "metadata": {},
   "outputs": [
    {
     "data": {
      "text/plain": [
       "array(['boxing', 'auto racing', 'golf', 'basketball', 'Basketball',\n",
       "       'Boxing', 'Auto Racing', 'Golf', 'Tennis', 'NFL', 'Auto racing',\n",
       "       'NBA', 'Baseball', 'Ice Hockey', 'American Football / Baseball',\n",
       "       'tennis', 'ice hockey', 'F1 Motorsports', 'NASCAR', 'Hockey',\n",
       "       'Auto Racing (Nascar)', 'F1 racing', 'American Football', 'soccer',\n",
       "       'baseball', 'cycling', 'motorcycle gp', 'Soccer', 'MMA'],\n",
       "      dtype=object)"
      ]
     },
     "execution_count": 18,
     "metadata": {},
     "output_type": "execute_result"
    }
   ],
   "source": [
    "salaires_athletes.Sport.unique()"
   ]
  },
  {
   "cell_type": "markdown",
   "id": "a3651c45-5b6c-4ae4-80b9-f40d749d01e5",
   "metadata": {},
   "source": [
    "Nous remarquons que pour certaines categories nous avons des doublons. Nous allons effectué un nettoyage de donnée dans cette catégorie"
   ]
  },
  {
   "cell_type": "code",
   "execution_count": 25,
   "id": "83da6c87-2052-4bda-a9ca-f3821d5d2a83",
   "metadata": {},
   "outputs": [],
   "source": [
    "salaires_athletes.Sport.str.lower().unique()\n",
    "salaires_athletes.Sport=salaires_athletes.Sport.str.lower()"
   ]
  },
  {
   "cell_type": "code",
   "execution_count": 26,
   "id": "4b69e6cc-7038-491d-920d-1e498b5ca603",
   "metadata": {},
   "outputs": [
    {
     "data": {
      "text/plain": [
       "array(['boxing', 'auto racing', 'golf', 'basketball', 'tennis', 'nfl',\n",
       "       'nba', 'baseball', 'ice hockey', 'american football / baseball',\n",
       "       'f1 motorsports', 'nascar', 'hockey', 'auto racing (nascar)',\n",
       "       'f1 racing', 'american football', 'soccer', 'cycling',\n",
       "       'motorcycle gp', 'mma'], dtype=object)"
      ]
     },
     "execution_count": 26,
     "metadata": {},
     "output_type": "execute_result"
    }
   ],
   "source": [
    "salaires_athletes.Sport.unique()"
   ]
  },
  {
   "cell_type": "markdown",
   "id": "0ad717c6-c556-4b79-b5c8-3f714c60dc5a",
   "metadata": {},
   "source": [
    "Avec la fonction de la cellule précédente nous avons mis en minuscule tout les données afin que le formant soit adéquat pour toutes les catégories mais nous avons toujours des doublons qui nécessitent une analyse plus poussée"
   ]
  },
  {
   "cell_type": "code",
   "execution_count": 28,
   "id": "ad326db4-c669-4e50-b119-6978fa7a1407",
   "metadata": {},
   "outputs": [
    {
     "data": {
      "text/html": [
       "<div>\n",
       "<style scoped>\n",
       "    .dataframe tbody tr th:only-of-type {\n",
       "        vertical-align: middle;\n",
       "    }\n",
       "\n",
       "    .dataframe tbody tr th {\n",
       "        vertical-align: top;\n",
       "    }\n",
       "\n",
       "    .dataframe thead th {\n",
       "        text-align: right;\n",
       "    }\n",
       "</style>\n",
       "<table border=\"1\" class=\"dataframe\">\n",
       "  <thead>\n",
       "    <tr style=\"text-align: right;\">\n",
       "      <th></th>\n",
       "      <th>Name</th>\n",
       "      <th>Nationality</th>\n",
       "      <th>Current Rank</th>\n",
       "      <th>Previous Year Rank</th>\n",
       "      <th>Sport</th>\n",
       "      <th>Year</th>\n",
       "      <th>earnings ($ million)</th>\n",
       "    </tr>\n",
       "    <tr>\n",
       "      <th>S.NO</th>\n",
       "      <th></th>\n",
       "      <th></th>\n",
       "      <th></th>\n",
       "      <th></th>\n",
       "      <th></th>\n",
       "      <th></th>\n",
       "      <th></th>\n",
       "    </tr>\n",
       "  </thead>\n",
       "  <tbody>\n",
       "    <tr>\n",
       "      <th>78</th>\n",
       "      <td>Dale Earnhardt</td>\n",
       "      <td>USA</td>\n",
       "      <td>8</td>\n",
       "      <td>20</td>\n",
       "      <td>nascar</td>\n",
       "      <td>1997</td>\n",
       "      <td>19.1</td>\n",
       "    </tr>\n",
       "    <tr>\n",
       "      <th>85</th>\n",
       "      <td>Dale Earnhardt</td>\n",
       "      <td>USA</td>\n",
       "      <td>5</td>\n",
       "      <td>NaN</td>\n",
       "      <td>nascar</td>\n",
       "      <td>1998</td>\n",
       "      <td>24.1</td>\n",
       "    </tr>\n",
       "    <tr>\n",
       "      <th>191</th>\n",
       "      <td>Dale Earnhardt Jr.</td>\n",
       "      <td>USA</td>\n",
       "      <td>10</td>\n",
       "      <td>&gt;10</td>\n",
       "      <td>nascar</td>\n",
       "      <td>2009</td>\n",
       "      <td>34.0</td>\n",
       "    </tr>\n",
       "  </tbody>\n",
       "</table>\n",
       "</div>"
      ],
      "text/plain": [
       "                    Name Nationality  Current Rank Previous Year Rank   Sport  \\\n",
       "S.NO                                                                            \n",
       "78        Dale Earnhardt         USA             8                 20  nascar   \n",
       "85        Dale Earnhardt         USA             5                NaN  nascar   \n",
       "191   Dale Earnhardt Jr.         USA            10                >10  nascar   \n",
       "\n",
       "      Year  earnings ($ million)  \n",
       "S.NO                              \n",
       "78    1997                  19.1  \n",
       "85    1998                  24.1  \n",
       "191   2009                  34.0  "
      ]
     },
     "execution_count": 28,
     "metadata": {},
     "output_type": "execute_result"
    }
   ],
   "source": [
    "salaires_athletes[salaires_athletes.Sport=='nascar']"
   ]
  },
  {
   "cell_type": "code",
   "execution_count": 29,
   "id": "1a588941-139f-46d7-a233-3f664e8c666c",
   "metadata": {},
   "outputs": [
    {
     "data": {
      "text/html": [
       "<div>\n",
       "<style scoped>\n",
       "    .dataframe tbody tr th:only-of-type {\n",
       "        vertical-align: middle;\n",
       "    }\n",
       "\n",
       "    .dataframe tbody tr th {\n",
       "        vertical-align: top;\n",
       "    }\n",
       "\n",
       "    .dataframe thead th {\n",
       "        text-align: right;\n",
       "    }\n",
       "</style>\n",
       "<table border=\"1\" class=\"dataframe\">\n",
       "  <thead>\n",
       "    <tr style=\"text-align: right;\">\n",
       "      <th></th>\n",
       "      <th>Name</th>\n",
       "      <th>Nationality</th>\n",
       "      <th>Current Rank</th>\n",
       "      <th>Previous Year Rank</th>\n",
       "      <th>Sport</th>\n",
       "      <th>Year</th>\n",
       "      <th>earnings ($ million)</th>\n",
       "    </tr>\n",
       "    <tr>\n",
       "      <th>S.NO</th>\n",
       "      <th></th>\n",
       "      <th></th>\n",
       "      <th></th>\n",
       "      <th></th>\n",
       "      <th></th>\n",
       "      <th></th>\n",
       "      <th></th>\n",
       "    </tr>\n",
       "  </thead>\n",
       "  <tbody>\n",
       "    <tr>\n",
       "      <th>106</th>\n",
       "      <td>Dale Earnhardt</td>\n",
       "      <td>USA</td>\n",
       "      <td>6</td>\n",
       "      <td>9</td>\n",
       "      <td>auto racing (nascar)</td>\n",
       "      <td>2000</td>\n",
       "      <td>24.5</td>\n",
       "    </tr>\n",
       "    <tr>\n",
       "      <th>121</th>\n",
       "      <td>Jeff Gordon</td>\n",
       "      <td>USA</td>\n",
       "      <td>10</td>\n",
       "      <td>&gt;10</td>\n",
       "      <td>auto racing (nascar)</td>\n",
       "      <td>2002</td>\n",
       "      <td>20.0</td>\n",
       "    </tr>\n",
       "  </tbody>\n",
       "</table>\n",
       "</div>"
      ],
      "text/plain": [
       "                Name Nationality  Current Rank Previous Year Rank  \\\n",
       "S.NO                                                                \n",
       "106   Dale Earnhardt         USA             6                  9   \n",
       "121      Jeff Gordon         USA            10                >10   \n",
       "\n",
       "                     Sport  Year  earnings ($ million)  \n",
       "S.NO                                                    \n",
       "106   auto racing (nascar)  2000                  24.5  \n",
       "121   auto racing (nascar)  2002                  20.0  "
      ]
     },
     "execution_count": 29,
     "metadata": {},
     "output_type": "execute_result"
    }
   ],
   "source": [
    "salaires_athletes[salaires_athletes.Sport=='auto racing (nascar)']"
   ]
  },
  {
   "cell_type": "markdown",
   "id": "63083e2f-9213-41a5-b3df-09523594ef86",
   "metadata": {},
   "source": [
    "Suite à ce filtrage on se rend compte qu'il s'agit de la meme catégorie de sport"
   ]
  },
  {
   "cell_type": "code",
   "execution_count": 33,
   "id": "199b87e1-4804-49c4-b279-8d50de0305b2",
   "metadata": {},
   "outputs": [],
   "source": [
    "salaires_athletes.Sport=salaires_athletes.Sport.replace('auto racing (nascar)','nascar')\n"
   ]
  },
  {
   "cell_type": "code",
   "execution_count": 34,
   "id": "614e39b9-44c7-485b-a52c-264bdb7525f9",
   "metadata": {},
   "outputs": [
    {
     "data": {
      "text/plain": [
       "array(['boxing', 'auto racing', 'golf', 'basketball', 'tennis', 'nfl',\n",
       "       'nba', 'baseball', 'ice hockey', 'american football / baseball',\n",
       "       'f1 motorsports', 'nascar', 'hockey', 'f1 racing',\n",
       "       'american football', 'soccer', 'cycling', 'motorcycle gp', 'mma'],\n",
       "      dtype=object)"
      ]
     },
     "execution_count": 34,
     "metadata": {},
     "output_type": "execute_result"
    }
   ],
   "source": [
    "salaires_athletes.Sport.unique()"
   ]
  },
  {
   "cell_type": "markdown",
   "id": "cdcfcabf-de93-4b83-aa75-acba10fc7891",
   "metadata": {},
   "source": [
    "Nous allons analysé les sports avec les athletes les mieux payés au cours des années"
   ]
  },
  {
   "cell_type": "code",
   "execution_count": 38,
   "id": "f133e8df-fcd1-41fd-861e-a97d17d58558",
   "metadata": {},
   "outputs": [
    {
     "data": {
      "text/plain": [
       "Sport\n",
       "nba                               15.2\n",
       "hockey                            17.9\n",
       "american football / baseball      22.5\n",
       "cycling                           28.0\n",
       "nfl                               37.5\n",
       "ice hockey                        57.8\n",
       "mma                               99.0\n",
       "nascar                           121.7\n",
       "motorcycle gp                    128.0\n",
       "baseball                         146.1\n",
       "f1 motorsports                   248.0\n",
       "auto racing                      386.3\n",
       "f1 racing                        397.0\n",
       "american football                901.2\n",
       "tennis                          1017.3\n",
       "golf                            2136.5\n",
       "soccer                          2223.5\n",
       "boxing                          2298.8\n",
       "basketball                      3418.1\n",
       "Name: earnings ($ million), dtype: float64"
      ]
     },
     "execution_count": 38,
     "metadata": {},
     "output_type": "execute_result"
    }
   ],
   "source": [
    "salaires_athletes.groupby('Sport')['earnings ($ million)'].sum().sort_values()"
   ]
  },
  {
   "cell_type": "code",
   "execution_count": 40,
   "id": "32d6693d-c9fa-4c46-8cc9-407f76c2d1f2",
   "metadata": {},
   "outputs": [
    {
     "data": {
      "text/plain": [
       "Sport\n",
       "nfl                             12.500000\n",
       "nba                             15.200000\n",
       "hockey                          17.900000\n",
       "ice hockey                      19.266667\n",
       "auto racing                     21.461111\n",
       "american football / baseball    22.500000\n",
       "nascar                          24.340000\n",
       "baseball                        24.350000\n",
       "cycling                         28.000000\n",
       "motorcycle gp                   32.000000\n",
       "basketball                      42.198765\n",
       "tennis                          44.230435\n",
       "golf                            48.556818\n",
       "f1 motorsports                  49.600000\n",
       "f1 racing                       49.625000\n",
       "boxing                          49.973913\n",
       "american football               53.011765\n",
       "soccer                          67.378788\n",
       "mma                             99.000000\n",
       "Name: earnings ($ million), dtype: float64"
      ]
     },
     "execution_count": 40,
     "metadata": {},
     "output_type": "execute_result"
    }
   ],
   "source": [
    "salaires_athletes.groupby('Sport')['earnings ($ million)'].mean().sort_values()"
   ]
  },
  {
   "cell_type": "markdown",
   "id": "e058da6b-a92f-4cba-9889-570b20c08a1e",
   "metadata": {},
   "source": [
    "Nous pouvons voir que le basketball est le sport le plus mais que la MMA est le sport qui paie le plus en moyenne"
   ]
  },
  {
   "cell_type": "markdown",
   "id": "0ddcf13c-73f8-41a4-b72c-ef09c6f65714",
   "metadata": {},
   "source": [
    "Nous allons voir le classement des athletes les mieux payés par sport"
   ]
  },
  {
   "cell_type": "code",
   "execution_count": 42,
   "id": "6284dc28-c4ab-47dd-9ea0-b6581c041900",
   "metadata": {},
   "outputs": [
    {
     "data": {
      "text/html": [
       "<div>\n",
       "<style scoped>\n",
       "    .dataframe tbody tr th:only-of-type {\n",
       "        vertical-align: middle;\n",
       "    }\n",
       "\n",
       "    .dataframe tbody tr th {\n",
       "        vertical-align: top;\n",
       "    }\n",
       "\n",
       "    .dataframe thead th {\n",
       "        text-align: right;\n",
       "    }\n",
       "</style>\n",
       "<table border=\"1\" class=\"dataframe\">\n",
       "  <thead>\n",
       "    <tr style=\"text-align: right;\">\n",
       "      <th></th>\n",
       "      <th></th>\n",
       "      <th>count</th>\n",
       "    </tr>\n",
       "    <tr>\n",
       "      <th>Nationality</th>\n",
       "      <th>Sport</th>\n",
       "      <th></th>\n",
       "    </tr>\n",
       "  </thead>\n",
       "  <tbody>\n",
       "    <tr>\n",
       "      <th>Argentina</th>\n",
       "      <th>soccer</th>\n",
       "      <td>9</td>\n",
       "    </tr>\n",
       "    <tr>\n",
       "      <th>Australia</th>\n",
       "      <th>golf</th>\n",
       "      <td>1</td>\n",
       "    </tr>\n",
       "    <tr>\n",
       "      <th>Austria</th>\n",
       "      <th>auto racing</th>\n",
       "      <td>1</td>\n",
       "    </tr>\n",
       "    <tr>\n",
       "      <th rowspan=\"2\" valign=\"top\">Brazil</th>\n",
       "      <th>auto racing</th>\n",
       "      <td>4</td>\n",
       "    </tr>\n",
       "    <tr>\n",
       "      <th>soccer</th>\n",
       "      <td>5</td>\n",
       "    </tr>\n",
       "    <tr>\n",
       "      <th rowspan=\"4\" valign=\"top\">Canada</th>\n",
       "      <th>auto racing</th>\n",
       "      <td>2</td>\n",
       "    </tr>\n",
       "    <tr>\n",
       "      <th>boxing</th>\n",
       "      <td>1</td>\n",
       "    </tr>\n",
       "    <tr>\n",
       "      <th>hockey</th>\n",
       "      <td>1</td>\n",
       "    </tr>\n",
       "    <tr>\n",
       "      <th>ice hockey</th>\n",
       "      <td>2</td>\n",
       "    </tr>\n",
       "    <tr>\n",
       "      <th>Dominican</th>\n",
       "      <th>baseball</th>\n",
       "      <td>1</td>\n",
       "    </tr>\n",
       "    <tr>\n",
       "      <th>Filipino</th>\n",
       "      <th>boxing</th>\n",
       "      <td>1</td>\n",
       "    </tr>\n",
       "    <tr>\n",
       "      <th>Finland</th>\n",
       "      <th>f1 racing</th>\n",
       "      <td>3</td>\n",
       "    </tr>\n",
       "    <tr>\n",
       "      <th>France</th>\n",
       "      <th>auto racing</th>\n",
       "      <td>3</td>\n",
       "    </tr>\n",
       "    <tr>\n",
       "      <th rowspan=\"3\" valign=\"top\">Germany</th>\n",
       "      <th>auto racing</th>\n",
       "      <td>3</td>\n",
       "    </tr>\n",
       "    <tr>\n",
       "      <th>f1 motorsports</th>\n",
       "      <td>5</td>\n",
       "    </tr>\n",
       "    <tr>\n",
       "      <th>f1 racing</th>\n",
       "      <td>5</td>\n",
       "    </tr>\n",
       "    <tr>\n",
       "      <th>Ireland</th>\n",
       "      <th>mma</th>\n",
       "      <td>1</td>\n",
       "    </tr>\n",
       "    <tr>\n",
       "      <th>Italy</th>\n",
       "      <th>motorcycle gp</th>\n",
       "      <td>4</td>\n",
       "    </tr>\n",
       "    <tr>\n",
       "      <th>Mexico</th>\n",
       "      <th>boxing</th>\n",
       "      <td>1</td>\n",
       "    </tr>\n",
       "    <tr>\n",
       "      <th>Northern Ireland</th>\n",
       "      <th>golf</th>\n",
       "      <td>1</td>\n",
       "    </tr>\n",
       "    <tr>\n",
       "      <th>Philippines</th>\n",
       "      <th>boxing</th>\n",
       "      <td>3</td>\n",
       "    </tr>\n",
       "    <tr>\n",
       "      <th>Portugal</th>\n",
       "      <th>soccer</th>\n",
       "      <td>10</td>\n",
       "    </tr>\n",
       "    <tr>\n",
       "      <th>Russia</th>\n",
       "      <th>ice hockey</th>\n",
       "      <td>1</td>\n",
       "    </tr>\n",
       "    <tr>\n",
       "      <th>Serbia</th>\n",
       "      <th>tennis</th>\n",
       "      <td>1</td>\n",
       "    </tr>\n",
       "    <tr>\n",
       "      <th>Spain</th>\n",
       "      <th>tennis</th>\n",
       "      <td>1</td>\n",
       "    </tr>\n",
       "    <tr>\n",
       "      <th>Switzerland</th>\n",
       "      <th>tennis</th>\n",
       "      <td>12</td>\n",
       "    </tr>\n",
       "    <tr>\n",
       "      <th rowspan=\"2\" valign=\"top\">UK</th>\n",
       "      <th>auto racing</th>\n",
       "      <td>4</td>\n",
       "    </tr>\n",
       "    <tr>\n",
       "      <th>soccer</th>\n",
       "      <td>9</td>\n",
       "    </tr>\n",
       "    <tr>\n",
       "      <th rowspan=\"12\" valign=\"top\">USA</th>\n",
       "      <th>american football</th>\n",
       "      <td>17</td>\n",
       "    </tr>\n",
       "    <tr>\n",
       "      <th>american football / baseball</th>\n",
       "      <td>1</td>\n",
       "    </tr>\n",
       "    <tr>\n",
       "      <th>auto racing</th>\n",
       "      <td>1</td>\n",
       "    </tr>\n",
       "    <tr>\n",
       "      <th>baseball</th>\n",
       "      <td>5</td>\n",
       "    </tr>\n",
       "    <tr>\n",
       "      <th>basketball</th>\n",
       "      <td>81</td>\n",
       "    </tr>\n",
       "    <tr>\n",
       "      <th>boxing</th>\n",
       "      <td>40</td>\n",
       "    </tr>\n",
       "    <tr>\n",
       "      <th>cycling</th>\n",
       "      <td>1</td>\n",
       "    </tr>\n",
       "    <tr>\n",
       "      <th>golf</th>\n",
       "      <td>42</td>\n",
       "    </tr>\n",
       "    <tr>\n",
       "      <th>nascar</th>\n",
       "      <td>5</td>\n",
       "    </tr>\n",
       "    <tr>\n",
       "      <th>nba</th>\n",
       "      <td>1</td>\n",
       "    </tr>\n",
       "    <tr>\n",
       "      <th>nfl</th>\n",
       "      <td>3</td>\n",
       "    </tr>\n",
       "    <tr>\n",
       "      <th>tennis</th>\n",
       "      <td>9</td>\n",
       "    </tr>\n",
       "  </tbody>\n",
       "</table>\n",
       "</div>"
      ],
      "text/plain": [
       "                                               count\n",
       "Nationality      Sport                              \n",
       "Argentina        soccer                            9\n",
       "Australia        golf                              1\n",
       "Austria          auto racing                       1\n",
       "Brazil           auto racing                       4\n",
       "                 soccer                            5\n",
       "Canada           auto racing                       2\n",
       "                 boxing                            1\n",
       "                 hockey                            1\n",
       "                 ice hockey                        2\n",
       "Dominican        baseball                          1\n",
       "Filipino         boxing                            1\n",
       "Finland          f1 racing                         3\n",
       "France           auto racing                       3\n",
       "Germany          auto racing                       3\n",
       "                 f1 motorsports                    5\n",
       "                 f1 racing                         5\n",
       "Ireland          mma                               1\n",
       "Italy            motorcycle gp                     4\n",
       "Mexico           boxing                            1\n",
       "Northern Ireland golf                              1\n",
       "Philippines      boxing                            3\n",
       "Portugal         soccer                           10\n",
       "Russia           ice hockey                        1\n",
       "Serbia           tennis                            1\n",
       "Spain            tennis                            1\n",
       "Switzerland      tennis                           12\n",
       "UK               auto racing                       4\n",
       "                 soccer                            9\n",
       "USA              american football                17\n",
       "                 american football / baseball      1\n",
       "                 auto racing                       1\n",
       "                 baseball                          5\n",
       "                 basketball                       81\n",
       "                 boxing                           40\n",
       "                 cycling                           1\n",
       "                 golf                             42\n",
       "                 nascar                            5\n",
       "                 nba                               1\n",
       "                 nfl                               3\n",
       "                 tennis                            9"
      ]
     },
     "execution_count": 42,
     "metadata": {},
     "output_type": "execute_result"
    }
   ],
   "source": [
    "salaires_athletes.groupby(['Nationality','Sport'])['earnings ($ million)'].agg([\"count\"])"
   ]
  },
  {
   "cell_type": "code",
   "execution_count": 43,
   "id": "77f02433-6a43-4a38-9c5e-32ff162c408c",
   "metadata": {},
   "outputs": [
    {
     "ename": "AttributeError",
     "evalue": "'DataFrame' object has no attribute 'unique'",
     "output_type": "error",
     "traceback": [
      "\u001b[1;31m---------------------------------------------------------------------------\u001b[0m",
      "\u001b[1;31mAttributeError\u001b[0m                            Traceback (most recent call last)",
      "\u001b[1;32m~\\AppData\\Local\\Temp\\ipykernel_20136\\3974824115.py\u001b[0m in \u001b[0;36m?\u001b[1;34m()\u001b[0m\n\u001b[1;32m----> 1\u001b[1;33m \u001b[0msalaires_athletes\u001b[0m\u001b[1;33m.\u001b[0m\u001b[0mgroupby\u001b[0m\u001b[1;33m(\u001b[0m\u001b[1;33m[\u001b[0m\u001b[1;34m'Nationality'\u001b[0m\u001b[1;33m,\u001b[0m\u001b[1;34m'Sport'\u001b[0m\u001b[1;33m]\u001b[0m\u001b[1;33m)\u001b[0m\u001b[1;33m[\u001b[0m\u001b[1;34m'earnings ($ million)'\u001b[0m\u001b[1;33m]\u001b[0m\u001b[1;33m.\u001b[0m\u001b[0magg\u001b[0m\u001b[1;33m(\u001b[0m\u001b[1;33m[\u001b[0m\u001b[1;34m\"count\"\u001b[0m\u001b[1;33m]\u001b[0m\u001b[1;33m)\u001b[0m\u001b[1;33m.\u001b[0m\u001b[0munique\u001b[0m\u001b[1;33m(\u001b[0m\u001b[1;33m)\u001b[0m\u001b[1;33m\u001b[0m\u001b[1;33m\u001b[0m\u001b[0m\n\u001b[0m",
      "\u001b[1;32m~\\anaconda3\\envs\\data_analyse\\lib\\site-packages\\pandas\\core\\generic.py\u001b[0m in \u001b[0;36m?\u001b[1;34m(self, name)\u001b[0m\n\u001b[0;32m   6295\u001b[0m             \u001b[1;32mand\u001b[0m \u001b[0mname\u001b[0m \u001b[1;32mnot\u001b[0m \u001b[1;32min\u001b[0m \u001b[0mself\u001b[0m\u001b[1;33m.\u001b[0m\u001b[0m_accessors\u001b[0m\u001b[1;33m\u001b[0m\u001b[1;33m\u001b[0m\u001b[0m\n\u001b[0;32m   6296\u001b[0m             \u001b[1;32mand\u001b[0m \u001b[0mself\u001b[0m\u001b[1;33m.\u001b[0m\u001b[0m_info_axis\u001b[0m\u001b[1;33m.\u001b[0m\u001b[0m_can_hold_identifiers_and_holds_name\u001b[0m\u001b[1;33m(\u001b[0m\u001b[0mname\u001b[0m\u001b[1;33m)\u001b[0m\u001b[1;33m\u001b[0m\u001b[1;33m\u001b[0m\u001b[0m\n\u001b[0;32m   6297\u001b[0m         ):\n\u001b[0;32m   6298\u001b[0m             \u001b[1;32mreturn\u001b[0m \u001b[0mself\u001b[0m\u001b[1;33m[\u001b[0m\u001b[0mname\u001b[0m\u001b[1;33m]\u001b[0m\u001b[1;33m\u001b[0m\u001b[1;33m\u001b[0m\u001b[0m\n\u001b[1;32m-> 6299\u001b[1;33m         \u001b[1;32mreturn\u001b[0m \u001b[0mobject\u001b[0m\u001b[1;33m.\u001b[0m\u001b[0m__getattribute__\u001b[0m\u001b[1;33m(\u001b[0m\u001b[0mself\u001b[0m\u001b[1;33m,\u001b[0m \u001b[0mname\u001b[0m\u001b[1;33m)\u001b[0m\u001b[1;33m\u001b[0m\u001b[1;33m\u001b[0m\u001b[0m\n\u001b[0m",
      "\u001b[1;31mAttributeError\u001b[0m: 'DataFrame' object has no attribute 'unique'"
     ]
    }
   ],
   "source": [
    "salaires_athletes.groupby(['Nationality','Sport'])['earnings ($ million)'].agg([\"count\"])"
   ]
  },
  {
   "cell_type": "code",
   "execution_count": 2,
   "id": "e1415f66-ce4e-4807-bdd7-fe85509ae4f2",
   "metadata": {},
   "outputs": [
    {
     "data": {
      "text/plain": [
       "2"
      ]
     },
     "execution_count": 2,
     "metadata": {},
     "output_type": "execute_result"
    }
   ],
   "source": [
    "1+1"
   ]
  },
  {
   "cell_type": "code",
   "execution_count": 4,
   "id": "d5d6f9f3-09d9-40ac-b6d1-fc78fd659935",
   "metadata": {},
   "outputs": [
    {
     "data": {
      "text/plain": [
       "5"
      ]
     },
     "execution_count": 4,
     "metadata": {},
     "output_type": "execute_result"
    }
   ],
   "source": [
    "1+4\n"
   ]
  },
  {
   "cell_type": "code",
   "execution_count": null,
   "id": "8397a8df-1fac-4005-a014-179d329989f1",
   "metadata": {},
   "outputs": [],
   "source": []
  }
 ],
 "metadata": {
  "kernelspec": {
   "display_name": "Python [conda env:base] *",
   "language": "python",
   "name": "conda-base-py"
  },
  "language_info": {
   "codemirror_mode": {
    "name": "ipython",
    "version": 3
   },
   "file_extension": ".py",
   "mimetype": "text/x-python",
   "name": "python",
   "nbconvert_exporter": "python",
   "pygments_lexer": "ipython3",
   "version": "3.12.7"
  }
 },
 "nbformat": 4,
 "nbformat_minor": 5
}
